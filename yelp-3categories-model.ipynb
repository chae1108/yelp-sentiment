{
 "cells": [
  {
   "cell_type": "markdown",
   "metadata": {},
   "source": [
    "This notebook contains the modeling part for the full dataset. For the text cleaning portion, refer to 'yelp-3categories'."
   ]
  },
  {
   "cell_type": "code",
   "execution_count": 1,
   "metadata": {
    "collapsed": false
   },
   "outputs": [
    {
     "name": "stderr",
     "output_type": "stream",
     "text": [
      "No handlers could be found for logger \"gensim.models.word2vec\"\n"
     ]
    }
   ],
   "source": [
    "import os\n",
    "import codecs\n",
    "import json\n",
    "import spacy\n",
    "import numpy as np\n",
    "import pandas as pd\n",
    "import itertools as it\n",
    "from gensim.models import Phrases\n",
    "from gensim.models.word2vec import LineSentence\n",
    "from sklearn.cross_validation import train_test_split\n",
    "from sklearn.feature_extraction.text import CountVectorizer, TfidfVectorizer\n",
    "from sklearn.naive_bayes import MultinomialNB\n",
    "from sklearn.linear_model import LogisticRegression\n",
    "from sklearn import metrics\n",
    "from sklearn.ensemble import RandomForestClassifier\n",
    "from sklearn.pipeline import Pipeline\n",
    "from sklearn.externals import joblib\n",
    "from textblob import TextBlob"
   ]
  },
  {
   "cell_type": "code",
   "execution_count": 2,
   "metadata": {
    "collapsed": false
   },
   "outputs": [],
   "source": [
    "data_directory = os.path.join('dataset')\n",
    "review_filepath = os.path.join(data_directory,'yelp_academic_dataset_review.json')\n",
    "result_directory = os.path.join('result-3categories')\n",
    "review_txt_filepath = os.path.join(result_directory,'review_text.txt')\n",
    "star_txt_filepath = os.path.join(result_directory,'star_text.txt')"
   ]
  },
  {
   "cell_type": "code",
   "execution_count": 3,
   "metadata": {
    "collapsed": true
   },
   "outputs": [],
   "source": [
    "unigram_sentences_filepath = os.path.join(result_directory,'unigram_sentences_all.txt')"
   ]
  },
  {
   "cell_type": "code",
   "execution_count": 4,
   "metadata": {
    "collapsed": true
   },
   "outputs": [],
   "source": [
    "unigram_sentences = LineSentence(unigram_sentences_filepath)"
   ]
  },
  {
   "cell_type": "code",
   "execution_count": 3,
   "metadata": {
    "collapsed": true
   },
   "outputs": [],
   "source": [
    "bigram_model_filepath = os.path.join(result_directory, 'bigram_model_all')"
   ]
  },
  {
   "cell_type": "code",
   "execution_count": 6,
   "metadata": {
    "collapsed": false
   },
   "outputs": [
    {
     "name": "stdout",
     "output_type": "stream",
     "text": [
      "CPU times: user 3.85 s, sys: 992 ms, total: 4.84 s\n",
      "Wall time: 6.7 s\n"
     ]
    }
   ],
   "source": [
    "%%time\n",
    "\n",
    "# bigram_model = Phrases(unigram_sentences)\n",
    "# bigram_model.save(bigram_model_filepath)\n",
    "\n",
    "bigram_model = Phrases.load(bigram_model_filepath)"
   ]
  },
  {
   "cell_type": "code",
   "execution_count": 4,
   "metadata": {
    "collapsed": true
   },
   "outputs": [],
   "source": [
    "nlp = spacy.load('en')"
   ]
  },
  {
   "cell_type": "code",
   "execution_count": 8,
   "metadata": {
    "collapsed": true
   },
   "outputs": [],
   "source": [
    "def punct_space(token):\n",
    "    return token.is_punct or token.is_space\n",
    "\n",
    "def line_review(filename):\n",
    "    with codecs.open(filename, encoding='utf_8') as f:\n",
    "        for review in f:\n",
    "            yield review.replace('\\\\n', '\\n')\n",
    "            \n",
    "def lemmatized_sentence_corpus(filename):\n",
    "    for parsed_review in nlp.pipe(line_review(filename), batch_size=10000, n_threads=4):        \n",
    "        for sent in parsed_review.sents:\n",
    "            yield u' '.join([token.lemma_ for token in sent\n",
    "                             if not punct_space(token)])"
   ]
  },
  {
   "cell_type": "code",
   "execution_count": 9,
   "metadata": {
    "collapsed": true
   },
   "outputs": [],
   "source": [
    "bigram_sentences_filepath = os.path.join(result_directory,'bigram_sentences_all.txt')"
   ]
  },
  {
   "cell_type": "code",
   "execution_count": 10,
   "metadata": {
    "collapsed": true
   },
   "outputs": [],
   "source": [
    "bigram_sentences = LineSentence(bigram_sentences_filepath)"
   ]
  },
  {
   "cell_type": "code",
   "execution_count": 5,
   "metadata": {
    "collapsed": true
   },
   "outputs": [],
   "source": [
    "bigram_reviews_filepath = os.path.join(result_directory,'bigram_transformed_reviews_all.txt')"
   ]
  },
  {
   "cell_type": "code",
   "execution_count": 12,
   "metadata": {
    "collapsed": false
   },
   "outputs": [],
   "source": [
    "with codecs.open(bigram_reviews_filepath, 'w', encoding='utf_8') as f:\n",
    "\n",
    "    for parsed_review in nlp.pipe(line_review(review_txt_filepath),\n",
    "                                  batch_size=10000, n_threads=4):\n",
    "\n",
    "        # lemmatize the text, removing punctuation and whitespace\n",
    "        unigram_review = [token.lemma_ for token in parsed_review\n",
    "                          if not punct_space(token)]\n",
    "\n",
    "        # apply the first-order and second-order phrase models\n",
    "        bigram_review = bigram_model[unigram_review]\n",
    "\n",
    "        # remove any remaining stopwords\n",
    "        bigram_review = [term for term in bigram_review\n",
    "                          if term not in spacy.en.STOPWORDS]\n",
    "\n",
    "        # write the transformed review as a line in the new file\n",
    "        bigram_review = u' '.join(bigram_review)\n",
    "        f.write(bigram_review + '\\n')"
   ]
  },
  {
   "cell_type": "code",
   "execution_count": 3,
   "metadata": {
    "collapsed": true
   },
   "outputs": [],
   "source": [
    "trigram_model_filepath = os.path.join(result_directory,'trigram_model_all')"
   ]
  },
  {
   "cell_type": "code",
   "execution_count": 4,
   "metadata": {
    "collapsed": true
   },
   "outputs": [],
   "source": [
    "trigram_sentences_filepath = os.path.join(result_directory,'trigram_sentences_all.txt')"
   ]
  },
  {
   "cell_type": "code",
   "execution_count": 5,
   "metadata": {
    "collapsed": false
   },
   "outputs": [],
   "source": [
    "trigram_reviews_filepath = os.path.join(result_directory,'trigram_transformed_reviews_all.txt')"
   ]
  },
  {
   "cell_type": "code",
   "execution_count": 6,
   "metadata": {
    "collapsed": false
   },
   "outputs": [],
   "source": [
    "# use bigram to create X\n",
    "X_list=pd.read_table(bigram_reviews_filepath, skip_blank_lines=False ,names=['text'])\n",
    "X=X_list.text"
   ]
  },
  {
   "cell_type": "code",
   "execution_count": 7,
   "metadata": {
    "collapsed": false
   },
   "outputs": [],
   "source": [
    "y_list=pd.read_table(star_txt_filepath,names=['stars'])\n",
    "y=y_list.stars"
   ]
  },
  {
   "cell_type": "code",
   "execution_count": 8,
   "metadata": {
    "collapsed": false
   },
   "outputs": [
    {
     "name": "stdout",
     "output_type": "stream",
     "text": [
      "(2225213,)\n",
      "(2225213,)\n"
     ]
    }
   ],
   "source": [
    "print X.shape\n",
    "print y.shape"
   ]
  },
  {
   "cell_type": "code",
   "execution_count": 16,
   "metadata": {
    "collapsed": false
   },
   "outputs": [
    {
     "name": "stdout",
     "output_type": "stream",
     "text": [
      "urban_renewal skin care bar place beauty need trust non_toxic eco_friendly product body amazing result owner taylor know ' care customer product definitely recommend place 3\n",
      "urban_renewal professional helpful highly_recommend waxing skin service great 3\n",
      "urban_renewal skin care bar best wo anywhere_else year use toxic face product skin hook mybody product face feel look good taylor owner helpful come listen need feel confident know product specific face extensive_knowledge product service reassuring definitely check place 3\n",
      "urban_renewal skin care wow excellent customer service owner taylor incredibly helpful knowledgable know trust product nurture protect skin highly_recommend visit gem visit wo anywhere_else 3\n",
      "town visit need facial waxing taylor amazing job skin feel amazing spa cute knowledgable definitely recommend try place 3\n",
      "struggle perfect skincare range super sensitive age pale skin urban_renewal skin care bar hope search perfect product end meet taylor owner consultation clear moment begin talk knowledgeable passionate confident result product professional speak skin problem walk away mybody cleanser hydrator eye cream taylor explain need product target acne anti_aging notice result 2 day use believe wrinkle eye pronounced skin appear smoother honestly best skincare range use turn taylor gem thank 3\n",
      "absolutely love product recommend taylor purchase product knowledgable passionate_about highly_recommend business taylor 's service 5_star 3\n",
      "outstanding food outstanding blow_away quantity service oh like drink wine group order different fondue main desert fondue wine free fondue serve cute baby bottle actually good order couple amazing cocktail music point ambiance cheeky sex shop themed entrance french pigalle district vibe great value visit vegas 3\n",
      "restaurant fun walk immediately transport look feel like red light district paris music point server extremely friendly attentive food quality better let 's talk food wine- soon seat 're welcome plate delicious pickled_veggie order fondue options- shrimp cheese steak dessert sake hold sauce deliciously unique savory best drink wine serve baby bottle admit think weird quickly bottle later feel like cool house party vegas let 's talk atmosphere- want away enter space experience cool graffiti wall glance time discover new choose sexy music_playlist lighting know ' lack interactive dining experience feel comfortable indulge fantasy thing bad good 3\n",
      "' fondue question cheese tri_tip shrimp oh cheese good tri_tip better sure kevin server disappoint come 3\n"
     ]
    }
   ],
   "source": [
    "# prints 10 reviews and their stars\n",
    "for i in range(2225113,2225123):\n",
    "    print X[i], y[i]"
   ]
  },
  {
   "cell_type": "code",
   "execution_count": 10,
   "metadata": {
    "collapsed": true
   },
   "outputs": [],
   "source": [
    "X_train, X_test, y_train, y_test = train_test_split(X, y, random_state=1)"
   ]
  },
  {
   "cell_type": "code",
   "execution_count": 9,
   "metadata": {
    "collapsed": false
   },
   "outputs": [],
   "source": [
    "# countvectorizer on all 2.2 million reviews\n",
    "vect = CountVectorizer()\n",
    "X_dtm = vect.fit_transform(X.values.astype('U'))\n",
    "# X_test_dtm = vect.transform(X_test.values.astype('U'))\n",
    "# X_test_dtm2 = vect.transform([\"ddgdhrrrgh00\"])"
   ]
  },
  {
   "cell_type": "code",
   "execution_count": 10,
   "metadata": {
    "collapsed": false
   },
   "outputs": [
    {
     "data": {
      "text/plain": [
       "(2225213, 398101)"
      ]
     },
     "execution_count": 10,
     "metadata": {},
     "output_type": "execute_result"
    }
   ],
   "source": [
    "X_dtm.shape"
   ]
  },
  {
   "cell_type": "code",
   "execution_count": 20,
   "metadata": {
    "collapsed": false
   },
   "outputs": [
    {
     "name": "stdout",
     "output_type": "stream",
     "text": [
      "[ 0.75387322  0.73641423  0.74098907  0.77142607  0.79396776]\n",
      "Accuracy: 0.76 (+/- 0.04)\n",
      "f1: 0.76 (+/- 0.04)\n"
     ]
    }
   ],
   "source": [
    "# cross validation naive-bayse\n",
    "from sklearn.cross_validation import cross_val_score\n",
    "nb = MultinomialNB()\n",
    "scores = cross_val_score(nb,X_dtm, y, cv=5)\n",
    "print scores                                              \n",
    "print(\"Accuracy: %0.2f (+/- %0.2f)\" % (scores.mean(), scores.std() * 2))\n",
    "scores = cross_val_score(nb,X_dtm, y, cv=5, scoring='f1_micro')\n",
    "print(\"f1: %0.2f (+/- %0.2f)\" % (scores.mean(), scores.std() * 2))"
   ]
  },
  {
   "cell_type": "code",
   "execution_count": 21,
   "metadata": {
    "collapsed": false
   },
   "outputs": [
    {
     "data": {
      "text/plain": [
       "['vect_nb_pipeline.pkl']"
      ]
     },
     "execution_count": 21,
     "metadata": {},
     "output_type": "execute_result"
    }
   ],
   "source": [
    "# jobline pickle files to save vectorizer and nb pipeline\n",
    "vect_nb_pipeline = Pipeline([('vect', vect), ('nb', nb)])\n",
    "joblib.dump(vect_nb_pipeline, 'vect_nb_pipeline.pkl')"
   ]
  },
  {
   "cell_type": "code",
   "execution_count": 26,
   "metadata": {
    "collapsed": true
   },
   "outputs": [],
   "source": [
    "X_train, X_test, y_train, y_test = train_test_split(X, y, stratify=y, random_state=1)\n",
    "\n",
    "vect = CountVectorizer()\n",
    "X_train_dtm = vect.fit_transform(X_train.values.astype('U'))\n",
    "X_test_dtm = vect.transform(X_test.values.astype('U'))"
   ]
  },
  {
   "cell_type": "code",
   "execution_count": 27,
   "metadata": {
    "collapsed": false
   },
   "outputs": [
    {
     "name": "stdout",
     "output_type": "stream",
     "text": [
      "0.771766875665\n"
     ]
    }
   ],
   "source": [
    "nb = MultinomialNB()\n",
    "nb.fit(X_dtm, y_train)\n",
    "y_pred_nb = nb.predict(X_test_dtm)\n",
    "\n",
    "print metrics.accuracy_score(y_test, y_pred_nb)\n",
    "#print y_pred_class"
   ]
  },
  {
   "cell_type": "code",
   "execution_count": 28,
   "metadata": {
    "collapsed": false
   },
   "outputs": [
    {
     "name": "stdout",
     "output_type": "stream",
     "text": [
      "             precision    recall  f1-score   support\n",
      "\n",
      "          1       0.70      0.68      0.69    112635\n",
      "          2       0.37      0.48      0.42     70529\n",
      "          3       0.90      0.86      0.88    373140\n",
      "\n",
      "avg / total       0.79      0.77      0.78    556304\n",
      "\n",
      "[[ 76309  25720  10606]\n",
      " [ 11584  33945  25000]\n",
      " [ 21039  33018 319083]]\n"
     ]
    }
   ],
   "source": [
    "# classification report for all reviews and stars\n",
    "print metrics.classification_report(y_test, y_pred_nb)\n",
    "print metrics.confusion_matrix(y_test, y_pred_nb)"
   ]
  },
  {
   "cell_type": "code",
   "execution_count": 29,
   "metadata": {
    "collapsed": false
   },
   "outputs": [
    {
     "data": {
      "text/plain": [
       "3    0.670748\n",
       "1    0.202471\n",
       "2    0.126781\n",
       "Name: stars, dtype: float64"
      ]
     },
     "execution_count": 29,
     "metadata": {},
     "output_type": "execute_result"
    }
   ],
   "source": [
    "# baseline\n",
    "y_list.stars.value_counts()/len(y)"
   ]
  },
  {
   "cell_type": "code",
   "execution_count": 30,
   "metadata": {
    "collapsed": true
   },
   "outputs": [],
   "source": [
    "# pipeline and joblib on train data (just in case)\n",
    "vect_nb_pipeline = Pipeline([('vect', vect), ('nb', nb)])"
   ]
  },
  {
   "cell_type": "code",
   "execution_count": 31,
   "metadata": {
    "collapsed": false
   },
   "outputs": [
    {
     "data": {
      "text/plain": [
       "['vect_nb_pipeline_ttt.pkl',\n",
       " 'vect_nb_pipeline_ttt.pkl_01.npy',\n",
       " 'vect_nb_pipeline_ttt.pkl_02.npy',\n",
       " 'vect_nb_pipeline_ttt.pkl_03.npy',\n",
       " 'vect_nb_pipeline_ttt.pkl_04.npy',\n",
       " 'vect_nb_pipeline_ttt.pkl_05.npy']"
      ]
     },
     "execution_count": 31,
     "metadata": {},
     "output_type": "execute_result"
    }
   ],
   "source": [
    "joblib.dump(vect_nb_pipeline, 'vect_nb_pipeline_ttt.pkl')"
   ]
  },
  {
   "cell_type": "code",
   "execution_count": 25,
   "metadata": {
    "collapsed": true
   },
   "outputs": [],
   "source": [
    "X_train2, X_test2, y_train2, y_test2 = train_test_split(X, y, stratify=y, random_state=1)"
   ]
  },
  {
   "cell_type": "code",
   "execution_count": 28,
   "metadata": {
    "collapsed": false
   },
   "outputs": [],
   "source": [
    "vect2 = CountVectorizer()\n",
    "X_train_dtm2 = vect2.fit_transform(X_train2.values.astype('U'))\n",
    "X_test_dtm2 = vect2.transform(X_test2.values.astype('U'))\n",
    "# X_test_dtm2 = vect.transform([\"ddgdhrrrgh00\"])"
   ]
  },
  {
   "cell_type": "code",
   "execution_count": 29,
   "metadata": {
    "collapsed": false
   },
   "outputs": [
    {
     "name": "stdout",
     "output_type": "stream",
     "text": [
      "0.774364376312\n"
     ]
    }
   ],
   "source": [
    "nb2 = MultinomialNB()\n",
    "nb2.fit(X_train_dtm2, y_train2)\n",
    "y_pred_nb2 = nb2.predict(X_test_dtm2)\n",
    "\n",
    "print metrics.accuracy_score(y_test2, y_pred_nb2)\n",
    "#print y_pred_class"
   ]
  },
  {
   "cell_type": "code",
   "execution_count": 31,
   "metadata": {
    "collapsed": false
   },
   "outputs": [
    {
     "name": "stdout",
     "output_type": "stream",
     "text": [
      "             precision    recall  f1-score   support\n",
      "\n",
      "          1       0.71      0.68      0.69    112540\n",
      "          2       0.37      0.49      0.42     70773\n",
      "          3       0.90      0.86      0.88    372991\n",
      "\n",
      "avg / total       0.79      0.78      0.78    556304\n",
      "\n",
      "[[ 76737  25453  10350]\n",
      " [ 11568  34332  24873]\n",
      " [ 20318  32349 320324]]\n"
     ]
    }
   ],
   "source": [
    "print metrics.classification_report(y_test, y_pred_nb)\n",
    "print metrics.confusion_matrix(y_test, y_pred_nb)"
   ]
  },
  {
   "cell_type": "code",
   "execution_count": 33,
   "metadata": {
    "collapsed": false
   },
   "outputs": [
    {
     "name": "stdout",
     "output_type": "stream",
     "text": [
      "Confusion matrix, without normalization\n",
      "[[ 76309  25720  10606]\n",
      " [ 11584  33945  25000]\n",
      " [ 21039  33018 319083]]\n"
     ]
    },
    {
     "data": {
      "image/png": "[encoded data removed]",
      "text/plain": [
       "<matplotlib.figure.Figure at 0x7f538dce04d0>"
      ]
     },
     "metadata": {},
     "output_type": "display_data"
    }
   ],
   "source": [
    "# better visualization for confusion matrix\n",
    "import matplotlib.pyplot as plt\n",
    "import itertools\n",
    "%matplotlib inline\n",
    "\n",
    "def plot_confusion_matrix(cm, classes,\n",
    "                          normalize=False,\n",
    "                          title='Confusion matrix',\n",
    "                          cmap=plt.cm.Blues):\n",
    "    \"\"\"\n",
    "    This function prints and plots the confusion matrix.\n",
    "    Normalization can be applied by setting `normalize=True`.\n",
    "    \"\"\"\n",
    "    plt.imshow(cm, interpolation='nearest', cmap=cmap)\n",
    "    plt.title(title)\n",
    "    plt.colorbar()\n",
    "    tick_marks = np.arange(len(classes))\n",
    "    plt.xticks(tick_marks, classes)\n",
    "    plt.yticks(tick_marks, classes)\n",
    "\n",
    "    if normalize:\n",
    "        cm = cm.astype('float') / cm.sum(axis=1)[:, np.newaxis]\n",
    "        print(\"Normalized confusion matrix\")\n",
    "    else:\n",
    "        print('Confusion matrix, without normalization')\n",
    "\n",
    "    print(cm)\n",
    "\n",
    "    thresh = cm.max() / 2.\n",
    "    for i, j in itertools.product(range(cm.shape[0]), range(cm.shape[1])):\n",
    "        plt.text(j, i, cm[i, j],\n",
    "                 horizontalalignment=\"center\",\n",
    "                 color=\"white\" if cm[i, j] > thresh else \"black\")\n",
    "\n",
    "    plt.tight_layout()\n",
    "    plt.ylabel('True label')\n",
    "    plt.xlabel('Predicted label')\n",
    "\n",
    "# Compute confusion matrix\n",
    "cnf_matrix = metrics.confusion_matrix(y_test, y_pred_nb)\n",
    "np.set_printoptions(precision=2)\n",
    "\n",
    "# Plot non-normalized confusion matrix\n",
    "plt.figure()\n",
    "plot_confusion_matrix(cnf_matrix, classes=[1,2,3],\n",
    "                      title='Confusion matrix')"
   ]
  },
  {
   "cell_type": "code",
   "execution_count": null,
   "metadata": {
    "collapsed": false
   },
   "outputs": [
    {
     "name": "stdout",
     "output_type": "stream",
     "text": [
      "0.770729672985\n"
     ]
    }
   ],
   "source": [
    "rf=RandomForestClassifier()\n",
    "rf.fit(X_train_dtm, y_train)\n",
    "y_pred_rf = rf.predict(X_test_dtm)\n",
    "\n",
    "print metrics.accuracy_score(y_test, y_pred_rf)"
   ]
  },
  {
   "cell_type": "code",
   "execution_count": 34,
   "metadata": {
    "collapsed": true
   },
   "outputs": [],
   "source": [
    "# run Textblob sentiment on review texts\n",
    "sentiment=[]\n",
    "review_filepath = os.path.join(result_directory,'review_text.txt')\n",
    "with codecs.open(review_filepath, 'r', encoding='utf_8') as review_file:\n",
    "    for sentence in review_file:\n",
    "        blob=TextBlob(sentence)\n",
    "        sentiment.append(blob.sentiment.polarity)"
   ]
  },
  {
   "cell_type": "code",
   "execution_count": 35,
   "metadata": {
    "collapsed": false
   },
   "outputs": [
    {
     "name": "stdout",
     "output_type": "stream",
     "text": [
      "2225213 (2225213,)\n"
     ]
    }
   ],
   "source": [
    "print len(sentiment), X.shape"
   ]
  },
  {
   "cell_type": "code",
   "execution_count": 36,
   "metadata": {
    "collapsed": false
   },
   "outputs": [
    {
     "data": {
      "text/plain": [
       "array([[ 1.  ,  0.55],\n",
       "       [ 0.55,  1.  ]])"
      ]
     },
     "execution_count": 36,
     "metadata": {},
     "output_type": "execute_result"
    }
   ],
   "source": [
    "# find the correlation between Textblob sentiment vs Yelp sentiment\n",
    "np.corrcoef(sentiment,y)"
   ]
  },
  {
   "cell_type": "code",
   "execution_count": 53,
   "metadata": {
    "collapsed": false
   },
   "outputs": [],
   "source": [
    "sentiment_filepath = os.path.join(result_directory,'sentiment.txt')\n",
    "with codecs.open(sentiment_filepath, 'w', encoding='utf_8') as f:\n",
    "\n",
    "    for i in sentiment:\n",
    "        f.write(str(i) + '\\n')"
   ]
  },
  {
   "cell_type": "code",
   "execution_count": 14,
   "metadata": {
    "collapsed": true
   },
   "outputs": [],
   "source": [
    "sentiment_filepath = os.path.join(result_directory,'sentiment.txt')"
   ]
  },
  {
   "cell_type": "code",
   "execution_count": 21,
   "metadata": {
    "collapsed": true
   },
   "outputs": [],
   "source": [
    "sentiment=[]\n",
    "sentiment_filepath = os.path.join(result_directory,'sentiment.txt')\n",
    "with codecs.open(sentiment_filepath, 'r') as sentiment_file:\n",
    "    for rating in sentiment_file:\n",
    "        sentiment.append(float(rating))"
   ]
  },
  {
   "cell_type": "code",
   "execution_count": 23,
   "metadata": {
    "collapsed": true
   },
   "outputs": [],
   "source": [
    "sentiment2=np.asarray(sentiment)"
   ]
  },
  {
   "cell_type": "code",
   "execution_count": 25,
   "metadata": {
    "collapsed": false
   },
   "outputs": [
    {
     "data": {
      "text/plain": [
       "[<matplotlib.text.Text at 0x7fdaa273b3d0>,\n",
       " <matplotlib.text.Text at 0x7fda888c1a10>,\n",
       " <matplotlib.text.Text at 0x7fda6b7f47d0>]"
      ]
     },
     "execution_count": 25,
     "metadata": {},
     "output_type": "execute_result"
    },
    {
     "data": {
      "image/png": "[encoded data removed]",
      "text/plain": [
       "<matplotlib.figure.Figure at 0x7fda6b7a4f10>"
      ]
     },
     "metadata": {},
     "output_type": "display_data"
    }
   ],
   "source": [
    "# boxplot for Yelp vs Textblob\n",
    "import matplotlib.pyplot as plt\n",
    "%matplotlib inline\n",
    "import seaborn as sns; sns.set(color_codes=True)\n",
    "plt.style.context('fivethirtyeight')\n",
    "ax = sns.boxplot(x=y_list.stars, y=sentiment2)\n",
    "ax.set(xlabel='Yelp Sentiment', ylabel='TextBlob Sentiment', title='Yelp vs TextBlob')"
   ]
  },
  {
   "cell_type": "code",
   "execution_count": null,
   "metadata": {
    "collapsed": true
   },
   "outputs": [],
   "source": []
  }
 ],
 "metadata": {
  "anaconda-cloud": {},
  "kernelspec": {
   "display_name": "Python [default]",
   "language": "python",
   "name": "python2"
  },
  "language_info": {
   "codemirror_mode": {
    "name": "ipython",
    "version": 2
   },
   "file_extension": ".py",
   "mimetype": "text/x-python",
   "name": "python",
   "nbconvert_exporter": "python",
   "pygments_lexer": "ipython2",
   "version": "2.7.12"
  }
 },
 "nbformat": 4,
 "nbformat_minor": 0
}
