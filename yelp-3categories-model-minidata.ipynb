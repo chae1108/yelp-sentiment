{
 "cells": [
  {
   "cell_type": "markdown",
   "metadata": {},
   "source": [
    "This file attempts to analyze predict parabola for model on 1% data"
   ]
  },
  {
   "cell_type": "code",
   "execution_count": 1,
   "metadata": {
    "collapsed": false
   },
   "outputs": [
    {
     "name": "stderr",
     "output_type": "stream",
     "text": [
      "No handlers could be found for logger \"gensim.models.word2vec\"\n"
     ]
    }
   ],
   "source": [
    "import os\n",
    "import codecs\n",
    "import json\n",
    "import spacy\n",
    "import numpy as np\n",
    "import pandas as pd\n",
    "import itertools as it\n",
    "from gensim.models import Phrases\n",
    "from gensim.models.word2vec import LineSentence\n",
    "from sklearn.cross_validation import train_test_split\n",
    "from sklearn.feature_extraction.text import CountVectorizer, TfidfVectorizer\n",
    "from sklearn.naive_bayes import MultinomialNB\n",
    "from sklearn.linear_model import LogisticRegression\n",
    "from sklearn import metrics\n",
    "from sklearn.ensemble import RandomForestClassifier\n",
    "from sklearn.pipeline import Pipeline\n",
    "from sklearn.externals import joblib\n",
    "from textblob import TextBlob"
   ]
  },
  {
   "cell_type": "code",
   "execution_count": 2,
   "metadata": {
    "collapsed": false
   },
   "outputs": [],
   "source": [
    "data_directory = os.path.join('dataset')\n",
    "review_filepath = os.path.join(data_directory,'review2.json')\n",
    "result_directory = os.path.join('result-3categories-minidata-v2')\n",
    "review_txt_filepath = os.path.join(result_directory,'review_text.txt')\n",
    "star_txt_filepath = os.path.join(result_directory,'star_text.txt')"
   ]
  },
  {
   "cell_type": "code",
   "execution_count": 3,
   "metadata": {
    "collapsed": true
   },
   "outputs": [],
   "source": [
    "trigram_model_filepath = os.path.join(result_directory,'trigram_model_all')"
   ]
  },
  {
   "cell_type": "code",
   "execution_count": 4,
   "metadata": {
    "collapsed": true
   },
   "outputs": [],
   "source": [
    "trigram_sentences_filepath = os.path.join(result_directory,'trigram_sentences_all.txt')"
   ]
  },
  {
   "cell_type": "code",
   "execution_count": 5,
   "metadata": {
    "collapsed": false
   },
   "outputs": [],
   "source": [
    "trigram_reviews_filepath = os.path.join(result_directory,'trigram_transformed_reviews_all.txt')"
   ]
  },
  {
   "cell_type": "code",
   "execution_count": 6,
   "metadata": {
    "collapsed": true
   },
   "outputs": [],
   "source": [
    "bigram_reviews_filepath = os.path.join(result_directory,'bigram_transformed_reviews_all.txt')"
   ]
  },
  {
   "cell_type": "code",
   "execution_count": 7,
   "metadata": {
    "collapsed": false
   },
   "outputs": [],
   "source": [
    "X_list=pd.read_table(bigram_reviews_filepath, skip_blank_lines=False ,names=['text'])\n",
    "X=X_list.text"
   ]
  },
  {
   "cell_type": "code",
   "execution_count": 7,
   "metadata": {
    "collapsed": false
   },
   "outputs": [],
   "source": [
    "y_list=pd.read_table(star_txt_filepath,names=['stars'])\n",
    "y=y_list.stars"
   ]
  },
  {
   "cell_type": "code",
   "execution_count": 8,
   "metadata": {
    "collapsed": false
   },
   "outputs": [
    {
     "name": "stdout",
     "output_type": "stream",
     "text": [
      "(17396,)\n",
      "(17396,)\n"
     ]
    }
   ],
   "source": [
    "print X.shape\n",
    "print y.shape"
   ]
  },
  {
   "cell_type": "code",
   "execution_count": 9,
   "metadata": {
    "collapsed": false
   },
   "outputs": [
    {
     "data": {
      "text/plain": [
       "3    10403\n",
       "2     3989\n",
       "1     3004\n",
       "Name: stars, dtype: int64"
      ]
     },
     "execution_count": 9,
     "metadata": {},
     "output_type": "execute_result"
    }
   ],
   "source": [
    "y.value_counts()"
   ]
  },
  {
   "cell_type": "code",
   "execution_count": 10,
   "metadata": {
    "collapsed": true
   },
   "outputs": [],
   "source": [
    "X_train, X_test, y_train, y_test = train_test_split(X, y, stratify=y, random_state=1)"
   ]
  },
  {
   "cell_type": "code",
   "execution_count": 11,
   "metadata": {
    "collapsed": false
   },
   "outputs": [],
   "source": [
    "vect = CountVectorizer()\n",
    "X_train_dtm = vect.fit_transform(X_train.values.astype('U'))\n",
    "X_test_dtm = vect.transform(X_test.values.astype('U'))\n",
    "# X_test_dtm2 = vect.transform([\"ddgdhrrrgh00\"])"
   ]
  },
  {
   "cell_type": "code",
   "execution_count": 12,
   "metadata": {
    "collapsed": false
   },
   "outputs": [
    {
     "data": {
      "text/plain": [
       "(4349, 24921)"
      ]
     },
     "execution_count": 12,
     "metadata": {},
     "output_type": "execute_result"
    }
   ],
   "source": [
    "X_test_dtm.shape"
   ]
  },
  {
   "cell_type": "code",
   "execution_count": 13,
   "metadata": {
    "collapsed": false
   },
   "outputs": [
    {
     "name": "stdout",
     "output_type": "stream",
     "text": [
      "0.69671188779\n"
     ]
    }
   ],
   "source": [
    "nb = MultinomialNB()\n",
    "nb.fit(X_train_dtm, y_train)\n",
    "y_pred_nb = nb.predict(X_test_dtm)\n",
    "\n",
    "print metrics.accuracy_score(y_test, y_pred_nb)\n",
    "#print y_pred_class"
   ]
  },
  {
   "cell_type": "code",
   "execution_count": 68,
   "metadata": {
    "collapsed": false
   },
   "outputs": [
    {
     "name": "stdout",
     "output_type": "stream",
     "text": [
      "0.680539437687\n"
     ]
    }
   ],
   "source": [
    "from sklearn.ensemble import AdaBoostClassifier\n",
    "from sklearn.cross_validation import cross_val_score\n",
    "ab = AdaBoostClassifier(nb)\n",
    "print cross_val_score(ab, X_train_dtm, y_train, cv=5, n_jobs=-1).mean()"
   ]
  },
  {
   "cell_type": "code",
   "execution_count": 53,
   "metadata": {
    "collapsed": false
   },
   "outputs": [
    {
     "name": "stdout",
     "output_type": "stream",
     "text": [
      "             precision    recall  f1-score   support\n",
      "\n",
      "          1       0.68      0.51      0.58       751\n",
      "          2       0.45      0.38      0.41       997\n",
      "          3       0.77      0.87      0.82      2601\n",
      "\n",
      "avg / total       0.68      0.70      0.68      4349\n",
      "\n",
      "[[ 382  207  162]\n",
      " [ 107  380  510]\n",
      " [  73  260 2268]]\n"
     ]
    }
   ],
   "source": [
    "print metrics.classification_report(y_test, y_pred_nb)\n",
    "print metrics.confusion_matrix(y_test, y_pred_nb)"
   ]
  },
  {
   "cell_type": "code",
   "execution_count": 54,
   "metadata": {
    "collapsed": false
   },
   "outputs": [
    {
     "data": {
      "text/plain": [
       "3    0.598011\n",
       "2    0.229306\n",
       "1    0.172683\n",
       "Name: stars, dtype: float64"
      ]
     },
     "execution_count": 54,
     "metadata": {},
     "output_type": "execute_result"
    }
   ],
   "source": [
    "y_list.stars.value_counts()/len(y)"
   ]
  },
  {
   "cell_type": "code",
   "execution_count": 55,
   "metadata": {
    "collapsed": false
   },
   "outputs": [
    {
     "name": "stdout",
     "output_type": "stream",
     "text": [
      "     class_1_pp  class_2_pp  class_3_pp\n",
      "0  7.859356e-04    0.998989    0.000225\n",
      "1  9.995532e-01    0.000441    0.000005\n",
      "2  1.726834e-01    0.229325    0.597992\n",
      "3  1.880227e-01    0.669729    0.142248\n",
      "4  2.330785e-01    0.764005    0.002916\n",
      "5  1.847622e-07    0.048546    0.951454\n",
      "6  5.738048e-04    0.024471    0.974956\n",
      "7  1.989535e-04    0.216245    0.783556\n",
      "8  3.885253e-04    0.001818    0.997794\n",
      "9  1.870092e-05    0.006411    0.993570\n"
     ]
    }
   ],
   "source": [
    "nb.predict_proba(X_test_dtm)\n",
    "Y_pp = pd.DataFrame(nb.predict_proba(X_test_dtm), columns=['class_1_pp','class_2_pp','class_3_pp'])\n",
    "print(Y_pp.iloc[0:10])"
   ]
  },
  {
   "cell_type": "code",
   "execution_count": 60,
   "metadata": {
    "collapsed": false
   },
   "outputs": [
    {
     "name": "stdout",
     "output_type": "stream",
     "text": [
      "      class_1_pp  class_2_pp    class_3_pp  pred_class_thresh50\n",
      "30  9.812745e-01    0.018726  2.212150e-08                    1\n",
      "31  8.897453e-07    0.000010  9.999887e-01                    3\n",
      "32  8.317781e-01    0.071776  9.644626e-02                    1\n",
      "33  5.493179e-11    0.015038  9.849616e-01                    3\n",
      "34  1.395265e-07    0.013913  9.860868e-01                    3\n",
      "35  7.156852e-02    0.729552  1.988796e-01                    2\n",
      "36  5.776518e-03    0.002583  9.916403e-01                    3\n",
      "37  1.189769e-07    0.631364  3.686359e-01                    2\n",
      "38  1.726834e-01    0.229325  5.979919e-01                    3\n",
      "39  7.921647e-05    0.000161  9.997594e-01                    3\n"
     ]
    }
   ],
   "source": [
    "Y_pred = nb.predict(X_test_dtm)\n",
    "Y_pp['pred_class_thresh50'] = Y_pred\n",
    "print(Y_pp.iloc[30:40])"
   ]
  },
  {
   "cell_type": "code",
   "execution_count": 63,
   "metadata": {
    "collapsed": false
   },
   "outputs": [
    {
     "name": "stdout",
     "output_type": "stream",
     "text": [
      "      predicted_1  predicted_2  predicted_3\n",
      "is_1          382          207          162\n",
      "is_2          107          380          510\n",
      "is_3           73          260         2268\n"
     ]
    }
   ],
   "source": [
    "conmat = np.array(metrics.confusion_matrix(y_test, Y_pp['pred_class_thresh50']))\n",
    "\n",
    "confusion = pd.DataFrame(conmat, index=['is_1', 'is_2', 'is_3'],\n",
    "                         columns=['predicted_1','predicted_2', 'predicted_3'])\n",
    "\n",
    "print(confusion)"
   ]
  },
  {
   "cell_type": "code",
   "execution_count": 62,
   "metadata": {
    "collapsed": false
   },
   "outputs": [
    {
     "data": {
      "text/plain": [
       "array([[   0,    0,    0,    0],\n",
       "       [ 531,    0,  220,    0],\n",
       "       [ 581,    0,  416,    0],\n",
       "       [2274,    0,  327,    0]])"
      ]
     },
     "execution_count": 62,
     "metadata": {},
     "output_type": "execute_result"
    }
   ],
   "source": [
    "Y_pp['pred_class_thresh_adj'] = [2 if x >= 0.40 else 0 for x in Y_pp.class_2_pp.values]\n",
    "\n",
    "conmat2 = np.array(metrics.confusion_matrix(y_test, Y_pp['pred_class_thresh_adj']))\n",
    "\n",
    "conmat2"
   ]
  },
  {
   "cell_type": "code",
   "execution_count": 64,
   "metadata": {
    "collapsed": true
   },
   "outputs": [],
   "source": [
    "tfi=TfidfVectorizer()\n",
    "X_train_tfi = tfi.fit_transform(X_train.values.astype('U'))\n",
    "X_test_tfi = tfi.transform(X_test.values.astype('U'))"
   ]
  },
  {
   "cell_type": "code",
   "execution_count": 66,
   "metadata": {
    "collapsed": false
   },
   "outputs": [
    {
     "name": "stdout",
     "output_type": "stream",
     "text": [
      "0.667279834445\n"
     ]
    }
   ],
   "source": [
    "nbtfi = MultinomialNB()\n",
    "nbtfi.fit(X_train_tfi, y_train)\n",
    "y_pred_nb_tfi = nb.predict(X_test_tfi)\n",
    "\n",
    "print metrics.accuracy_score(y_test, y_pred_nb_tfi)"
   ]
  },
  {
   "cell_type": "code",
   "execution_count": 16,
   "metadata": {
    "collapsed": true
   },
   "outputs": [],
   "source": [
    "vect = CountVectorizer(ngram_range=(1, 2), min_df=2)\n",
    "X_train_dtm = vect.fit_transform(X_train.values.astype('U'))\n",
    "X_test_dtm = vect.transform(X_test.values.astype('U'))\n",
    "# X_test_dtm2 = vect.transform([\"ddgdhrrrgh00\"])"
   ]
  },
  {
   "cell_type": "code",
   "execution_count": 17,
   "metadata": {
    "collapsed": false
   },
   "outputs": [
    {
     "name": "stdout",
     "output_type": "stream",
     "text": [
      "0.706139342378\n"
     ]
    }
   ],
   "source": [
    "nb = MultinomialNB()\n",
    "nb.fit(X_train_dtm, y_train)\n",
    "y_pred_nb = nb.predict(X_test_dtm)\n",
    "\n",
    "print metrics.accuracy_score(y_test, y_pred_nb)\n",
    "#print y_pred_class"
   ]
  },
  {
   "cell_type": "code",
   "execution_count": null,
   "metadata": {
    "collapsed": true
   },
   "outputs": [],
   "source": []
  }
 ],
 "metadata": {
  "anaconda-cloud": {},
  "kernelspec": {
   "display_name": "Python [default]",
   "language": "python",
   "name": "python2"
  },
  "language_info": {
   "codemirror_mode": {
    "name": "ipython",
    "version": 2
   },
   "file_extension": ".py",
   "mimetype": "text/x-python",
   "name": "python",
   "nbconvert_exporter": "python",
   "pygments_lexer": "ipython2",
   "version": "2.7.12"
  }
 },
 "nbformat": 4,
 "nbformat_minor": 0
}
