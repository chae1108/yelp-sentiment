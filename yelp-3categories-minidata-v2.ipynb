{
 "cells": [
  {
   "cell_type": "markdown",
   "metadata": {},
   "source": [
    "This file does in-depth analysis on 1% data"
   ]
  },
  {
   "cell_type": "code",
   "execution_count": 1,
   "metadata": {
    "collapsed": false
   },
   "outputs": [
    {
     "name": "stderr",
     "output_type": "stream",
     "text": [
      "No handlers could be found for logger \"gensim.models.word2vec\"\n"
     ]
    }
   ],
   "source": [
    "import os\n",
    "import codecs\n",
    "import json\n",
    "import spacy\n",
    "import numpy as np\n",
    "import pandas as pd\n",
    "import itertools as it\n",
    "from gensim.models import Phrases\n",
    "from gensim.models.word2vec import LineSentence\n",
    "from sklearn.cross_validation import train_test_split\n",
    "from sklearn.feature_extraction.text import CountVectorizer, TfidfVectorizer\n",
    "from sklearn.naive_bayes import MultinomialNB\n",
    "from sklearn.linear_model import LogisticRegression\n",
    "from sklearn import metrics\n",
    "from sklearn.ensemble import RandomForestClassifier\n",
    "from sklearn.pipeline import Pipeline\n",
    "from sklearn.externals import joblib"
   ]
  },
  {
   "cell_type": "code",
   "execution_count": 2,
   "metadata": {
    "collapsed": false
   },
   "outputs": [],
   "source": [
    "# pulls reviews and stars from json and saves as a text file\n",
    "data_directory = os.path.join('dataset')\n",
    "review_filepath = os.path.join(data_directory,'reviews2.json')\n",
    "result_directory = os.path.join('result-3categories-minidata-v2')\n",
    "review_txt_filepath = os.path.join(result_directory,'review_text.txt')\n",
    "star_txt_filepath = os.path.join(result_directory,'star_text.txt')\n",
    "# review_count = 0\n",
    "# with codecs.open(star_txt_filepath, 'w', encoding='utf_8') as star_txt_file:\n",
    "#     with codecs.open(review_txt_filepath, 'w', encoding='utf_8') as review_txt_file:\n",
    "#         with codecs.open(review_filepath, encoding='utf_8') as review_file:\n",
    "#             for review_json in review_file:\n",
    "#                 review = json.loads(review_json)\n",
    "#                 review_txt_file.write(review[u'text'].replace('\\n', ' ').replace('\\r', ' ') + '\\n')\n",
    "#                 if (review[u'stars'] == 1) or (review[u'stars'] == 2):\n",
    "#                     star_txt_file.write('1' + '\\n')\n",
    "#                 if (review[u'stars'] == 3):\n",
    "#                     star_txt_file.write('2' + '\\n')\n",
    "#                 if  (review[u'stars'] == 4) or (review[u'stars'] == 5):\n",
    "#                     star_txt_file.write('3' + '\\n')\n",
    "#                 review_count += 1"
   ]
  },
  {
   "cell_type": "code",
   "execution_count": 3,
   "metadata": {
    "collapsed": true
   },
   "outputs": [],
   "source": [
    "nlp = spacy.load('en')"
   ]
  },
  {
   "cell_type": "code",
   "execution_count": 4,
   "metadata": {
    "collapsed": true
   },
   "outputs": [],
   "source": [
    "def punct_space(token):\n",
    "    return token.is_punct or token.is_space\n",
    "\n",
    "def line_review(filename):\n",
    "    with codecs.open(filename, encoding='utf_8') as f:\n",
    "        for review in f:\n",
    "            yield review.replace('\\\\n', '\\n')\n",
    "            \n",
    "def lemmatized_sentence_corpus(filename):\n",
    "    for parsed_review in nlp.pipe(line_review(filename), batch_size=10000, n_threads=4):        \n",
    "        for sent in parsed_review.sents:\n",
    "            yield u' '.join([token.lemma_ for token in sent\n",
    "                             if not punct_space(token)])"
   ]
  },
  {
   "cell_type": "code",
   "execution_count": 5,
   "metadata": {
    "collapsed": false
   },
   "outputs": [],
   "source": [
    "unigram_sentences_filepath = os.path.join(result_directory,'unigram_sentences_all.txt')"
   ]
  },
  {
   "cell_type": "code",
   "execution_count": 7,
   "metadata": {
    "collapsed": false
   },
   "outputs": [],
   "source": [
    "with codecs.open(unigram_sentences_filepath, 'w', encoding='utf_8') as f:\n",
    "    for sentence in lemmatized_sentence_corpus(review_txt_filepath):\n",
    "        f.write(sentence + '\\n')"
   ]
  },
  {
   "cell_type": "code",
   "execution_count": 9,
   "metadata": {
    "collapsed": true
   },
   "outputs": [],
   "source": [
    "# converts review texts into unigram\n",
    "unigram_sentences = LineSentence(unigram_sentences_filepath)"
   ]
  },
  {
   "cell_type": "code",
   "execution_count": 10,
   "metadata": {
    "collapsed": false
   },
   "outputs": [
    {
     "name": "stdout",
     "output_type": "stream",
     "text": [
      "they have about 20+ thing on tap\n",
      "\n",
      "and if you do not count thing that be not beer e.g. bud they still have about 12+ beer on tap\n",
      "\n",
      "that make me really happy\n",
      "\n",
      "the casual pizza/beer atmosphere be wonderful for a late dinner last night\n",
      "\n",
      "the folk be really nice and the customer be not super crazy either like you would expect sometimes in a college town\n",
      "\n",
      "also they have thing like pool table and arcade machine which make them pretty awesome in my book\n",
      "\n",
      "the pizza be really good\n",
      "\n",
      "we have a special pizza with feta tomato and basil and a basket of fried mushroos and zuccini\n",
      "\n",
      "the wait be reasonable for a pizza make from scratch\n",
      "\n",
      "the pizza be delicious but surprisingly not fill\n",
      "\n"
     ]
    }
   ],
   "source": [
    "for unigram_sentence in it.islice(unigram_sentences, 230, 240):\n",
    "    print u' '.join(unigram_sentence)\n",
    "    print u''"
   ]
  },
  {
   "cell_type": "code",
   "execution_count": 5,
   "metadata": {
    "collapsed": true
   },
   "outputs": [],
   "source": [
    "bigram_model_filepath = os.path.join(result_directory, 'bigram_model_all')"
   ]
  },
  {
   "cell_type": "code",
   "execution_count": 6,
   "metadata": {
    "collapsed": false
   },
   "outputs": [
    {
     "name": "stdout",
     "output_type": "stream",
     "text": [
      "CPU times: user 128 ms, sys: 28 ms, total: 156 ms\n",
      "Wall time: 155 ms\n"
     ]
    }
   ],
   "source": [
    "%%time\n",
    "\n",
    "# bigram_model = Phrases(unigram_sentences)\n",
    "# bigram_model.save(bigram_model_filepath)\n",
    "\n",
    "bigram_model = Phrases.load(bigram_model_filepath)"
   ]
  },
  {
   "cell_type": "code",
   "execution_count": 7,
   "metadata": {
    "collapsed": true
   },
   "outputs": [],
   "source": [
    "bigram_sentences_filepath = os.path.join(result_directory,'bigram_sentences_all.txt')"
   ]
  },
  {
   "cell_type": "code",
   "execution_count": 13,
   "metadata": {
    "collapsed": false
   },
   "outputs": [],
   "source": [
    "with codecs.open(bigram_sentences_filepath, 'w', encoding='utf_8') as f:\n",
    "\n",
    "    for unigram_sentence in unigram_sentences:\n",
    "\n",
    "        bigram_sentence = u' '.join(bigram_model[unigram_sentence])\n",
    "\n",
    "        f.write(bigram_sentence + '\\n')"
   ]
  },
  {
   "cell_type": "code",
   "execution_count": 14,
   "metadata": {
    "collapsed": true
   },
   "outputs": [],
   "source": [
    "bigram_sentences = LineSentence(bigram_sentences_filepath)"
   ]
  },
  {
   "cell_type": "code",
   "execution_count": 15,
   "metadata": {
    "collapsed": false
   },
   "outputs": [
    {
     "name": "stdout",
     "output_type": "stream",
     "text": [
      "they have about 20+ thing on_tap\n",
      "\n",
      "and if_you do not count thing that be not beer e.g. bud they still have about 12+ beer on_tap\n",
      "\n",
      "that make me really happy\n",
      "\n",
      "the casual pizza/beer atmosphere be wonderful for a late dinner last_night\n",
      "\n",
      "the folk be really nice and the customer be not super crazy either like you would expect sometimes in a college_town\n",
      "\n",
      "also they have thing like pool_table and arcade machine which make them pretty awesome in my book\n",
      "\n",
      "the pizza be really good\n",
      "\n",
      "we have a special pizza with feta tomato and basil and a basket of fried mushroos and zuccini\n",
      "\n",
      "the wait be reasonable for a pizza make from_scratch\n",
      "\n",
      "the pizza be delicious but surprisingly not fill\n",
      "\n"
     ]
    }
   ],
   "source": [
    "# creates a bigram file\n",
    "for bigram_sentence in it.islice(bigram_sentences, 230, 240):\n",
    "    print u' '.join(bigram_sentence)\n",
    "    print u''"
   ]
  },
  {
   "cell_type": "code",
   "execution_count": 5,
   "metadata": {
    "collapsed": true
   },
   "outputs": [],
   "source": [
    "bigram_reviews_filepath = os.path.join(result_directory,'bigram_transformed_reviews_all.txt')"
   ]
  },
  {
   "cell_type": "code",
   "execution_count": 17,
   "metadata": {
    "collapsed": true
   },
   "outputs": [],
   "source": [
    "with codecs.open(bigram_reviews_filepath, 'w', encoding='utf_8') as f:\n",
    "\n",
    "    for parsed_review in nlp.pipe(line_review(review_txt_filepath),\n",
    "                                  batch_size=10000, n_threads=4):\n",
    "\n",
    "        # lemmatize the text, removing punctuation and whitespace\n",
    "        unigram_review = [token.lemma_ for token in parsed_review\n",
    "                          if not punct_space(token)]\n",
    "\n",
    "        # apply the first-order and second-order phrase models\n",
    "        bigram_review = bigram_model[unigram_review]\n",
    "\n",
    "        # remove any remaining stopwords\n",
    "        bigram_review = [term for term in bigram_review\n",
    "                          if term not in spacy.en.STOPWORDS]\n",
    "\n",
    "        # write the transformed review as a line in the new file\n",
    "        bigram_review = u' '.join(bigram_review)\n",
    "        f.write(bigram_review + '\\n')"
   ]
  },
  {
   "cell_type": "code",
   "execution_count": 18,
   "metadata": {
    "collapsed": false
   },
   "outputs": [
    {
     "name": "stdout",
     "output_type": "stream",
     "text": [
      "Original:\n",
      "\n",
      "this is my favorite korean restaurant in the south of the campus. I like the spicy mackarel soup. the taste is so delicious.\n",
      "\n",
      "I was pleasantly surprised by the kalbi and purple rice...it reminded me of my favorite Korean place when I lived in Hawaii.  This place used to have wraps and sandwiches, but have since changed menu and maybe ownership.  The waitress who serves me here is always super nice and makes me feel welcome.  When I'm done here I like to cap it off with Yogurt Park...super convenience.\n",
      "\n",
      "The food in my opinion is delicious.  It reminds me of home sorta, back from the SGV in SoCal, where Tofu Houses and All You Can Eat KBBQ are a common sight.   Reminiscing aside, I've had their Spicy (Beef) Bulgolgi, their spicy beef hot pot (with noodles), and their kimchi ramen.  All of them, to me, were delicious and filling (albeit the noodles didn't tide my stomach over long enough apparently? that's just a function of being mostly carbs as opposed to having some meat in there).  If you haven't tried it, I would recommend getting the spicy beef hot pot (with noodles) or the bulgolgi, spicy or not.\n",
      "\n",
      "Although not 5-star-dazzling, Toust is consistently satisfying, regardless of what you order.  Their entrees are decent. Bibimbap (dolsot or not) is good. But their tofu soups are rather lacking, and leaves me wanting some more flavors out of it. They tend to be on the lighter, more watery side. A surprisingly good dish would be their kimchi fried rice. Unlike most KFR out there, Toust's has real slices of beef instead of spam. With hearty amounts of vegetables, Toust's KFR doesn't just taste like mounds of rice with kimchi and red pepper paste caked on and the occasional spam piece. One of my favorite things to order here! Plus, they have a cabbage salad on the side that serves as the perfect refresher if the KFR gets to be too spicy.  Location is excellent: a 30 second walk to the UCBerkeley campus, it's a great place to eat during short breaks between classes.\n",
      "\n",
      "BLERGH another management change? No more are the TOUSTS or the WRAPS. It's pure Korean food fair now.  And unfortunately, it is quite bland. I don't know why but they need to season stuff a bit more because it just tastes like stuff tossed with a bunch of water or sauteed straight up with no salt or pepper or anything.  Friends had the soft tofu soup, japchae (sp? sorry it's the noodles), and pepper beef. I had expected some nice flavors, but sadly I was met with no flavor at all. :(.  I think I give this an extra star because the banchan (small pickled vegetables) was not too shabby.\n",
      "\n",
      "I had Bi Bim Bap because I wanted to know what all the rage was about this dish. It's like a rice bowl with vegetables, meat, and a sunny side up egg. On the side was mizo soup. It was pretty good, especially when the red spicy sauce is added. This was about $7.\n",
      "\n",
      "i LOVE their soondooboo! i always used to go on wednesdays (?) when their bibimbap is that day's special (a dollar or so cheaper).  i also really liek their potato banchan :3 i loooove ttoust!\n",
      "\n",
      "This is probably one of the better Korean places in Berkeley, food-wise. Service-wise, there isn't much (as places in Berkeley usually are) and its a little high on the price scale, but well worth it for the convenience. Some of their pancha are a little on the odd side (wtf fruit salad? NO BEAN SPROUTS?!) but their kimchi is pretty tasty.  I highly recommend getting the duk bok gi (spicy rice cakes) and ham, spam, kimchi soup to share with a friend, its magic.\n",
      "\n",
      "Surprisingly fast service. I ordered the veggie bibimbap, which came out in mere minutes with soup and of course, banchan--all in all, a huge amount of food that I could not finish. I really like all their banchan, especially the tofu. I thought it was cool that even though you pay beforehand and it's largely self-service they remember who ordered what and bring your food to you. Overall, good deal for the average prices, especially if you get the specials that change daily. The window seats by Sather Lane are good spots for people-watching.\n",
      "\n",
      "Decent food, good portions, great prices.  They even give you a few small dishes on banchan, which is a nice touch, some places just give you a little dollop of kimchi or nothing at all.    I know a lot of people will say this isn't great Korean food, but it's tasty, it's cheap, and the dol sot bibimbap is $5.99 on Wednesdays, and seafood soondobu is $5.99 on Thursdays. So try it out!\n",
      "\n",
      "----\n",
      "\n",
      "Transformed:\n",
      "\n",
      "my_favorite korean_restaurant south campus like spicy mackarel soup taste delicious\n",
      "\n",
      "pleasantly_surprise kalbi purple rice remind_me my_favorite korean place live hawaii this_place use wrap sandwich change menu maybe ownership waitress serve super nice feel welcome like cap yogurt_park super convenience\n",
      "\n",
      "food my_opinion delicious remind_me home sorta sgv socal tofu houses eat kbbq common sight reminisce aside spicy beef bulgolgi spicy beef hot_pot noodle kimchi ramen delicious albeit noodle tide stomach long apparently ' function carbs as_oppose meat if_you try recommend spicy beef hot_pot noodle bulgolgi spicy\n",
      "\n",
      "5-star dazzle toust consistently satisfying regardless order entree decent bibimbap dolsot good tofu_soup lacking leave want flavor tend light watery surprisingly good dish kimchi_fry rice unlike_most kfr toust 's real slice beef instead spam hearty vegetable toust 's kfr taste like mound_of rice kimchi red_pepper paste cake occasional spam piece my_favorite thing order plus cabbage salad serve perfect refresher kfr spicy location excellent 30_second walk ucberkeley campus ' great place eat short break between_class\n",
      "\n",
      "blergh management change tousts wraps. ' pure korean food fair unfortunately bland know_why need season stuff bit taste like stuff toss bunch_of water saute straight_up salt pepper friend soft_tofu soup japchae sp sorry ' noodle pepper beef expect nice flavor sadly meet flavor think an_extra star banchan small pickle vegetable too_shabby\n",
      "\n",
      "bi_bim bap want know_what rage dish ' like rice_bowl vegetable meat sunny_side egg mizo soup pretty good especially red spicy sauce add $_7\n",
      "\n",
      "love soondooboo use wednesday bibimbap day 's special dollar cheap liek potato banchan :3 loooove ttoust\n",
      "\n",
      "probably better korean place berkeley food wise service wise place berkeley usually little high price scale worth convenience pancha little odd wtf fruit_salad bean sprouts kimchi pretty tasty highly_recommend duk boschbok gi spicy rice_cake ham spam_kimchi soup share friend magic\n",
      "\n",
      "surprisingly fast service order veggie bibimbap come mere minute soup course banchan huge food finish like banchan especially tofu think cool even_though pay ' largely self service remember order bring food overall good deal average price especially if_you special change daily window seat sather_lane good spot people_watch\n",
      "\n",
      "decent food good portion great price small dish banchan nice_touch place little dollop kimchi know lot people great korean food ' tasty ' cheap dol_sot bibimbap $_5.99 wednesdays seafood soondobu $_5.99 on_thursdays try\n",
      "\n"
     ]
    }
   ],
   "source": [
    "print u'Original:' + u'\\n'\n",
    "\n",
    "for review in it.islice(line_review(review_txt_filepath), 250, 260):\n",
    "    print review\n",
    "\n",
    "print u'----' + u'\\n'\n",
    "print u'Transformed:' + u'\\n'\n",
    "\n",
    "with codecs.open(bigram_reviews_filepath, encoding='utf_8') as f:\n",
    "    for review in it.islice(f, 250, 260):\n",
    "        print review"
   ]
  },
  {
   "cell_type": "code",
   "execution_count": 15,
   "metadata": {
    "collapsed": true
   },
   "outputs": [],
   "source": [
    "trigram_model_filepath = os.path.join(result_directory,'trigram_model_all')"
   ]
  },
  {
   "cell_type": "code",
   "execution_count": 16,
   "metadata": {
    "collapsed": true
   },
   "outputs": [],
   "source": [
    "trigram_model = Phrases(bigram_sentences)\n",
    "\n",
    "trigram_model.save(trigram_model_filepath)\n",
    "    \n",
    "# load the finished model from disk\n",
    "trigram_model = Phrases.load(trigram_model_filepath)"
   ]
  },
  {
   "cell_type": "code",
   "execution_count": 17,
   "metadata": {
    "collapsed": true
   },
   "outputs": [],
   "source": [
    "trigram_sentences_filepath = os.path.join(result_directory,'trigram_sentences_all.txt')"
   ]
  },
  {
   "cell_type": "code",
   "execution_count": 18,
   "metadata": {
    "collapsed": true
   },
   "outputs": [],
   "source": [
    "with codecs.open(trigram_sentences_filepath, 'w', encoding='utf_8') as f:\n",
    "\n",
    "    for bigram_sentence in bigram_sentences:\n",
    "\n",
    "        trigram_sentence = u' '.join(trigram_model[bigram_sentence])\n",
    "\n",
    "        f.write(trigram_sentence + '\\n')"
   ]
  },
  {
   "cell_type": "code",
   "execution_count": 19,
   "metadata": {
    "collapsed": true
   },
   "outputs": [],
   "source": [
    "trigram_sentences = LineSentence(trigram_sentences_filepath)"
   ]
  },
  {
   "cell_type": "code",
   "execution_count": 20,
   "metadata": {
    "collapsed": false
   },
   "outputs": [
    {
     "name": "stdout",
     "output_type": "stream",
     "text": [
      "they have about 20+ thing on_tap\n",
      "\n",
      "and if_you do_not count thing that be not beer e.g. bud they still have about 12+ beer_on_tap\n",
      "\n",
      "that make me really happy\n",
      "\n",
      "the casual pizza/beer atmosphere be wonderful for a late dinner last_night\n",
      "\n",
      "the folk be really nice and the customer be not super crazy either like you would expect sometimes in a college_town\n",
      "\n",
      "also they have thing like pool_table and arcade machine which make them pretty awesome in my_book\n",
      "\n",
      "the pizza be really good\n",
      "\n",
      "we have a special pizza with feta tomato and basil and a basket of fried mushroos and zuccini\n",
      "\n",
      "the wait be reasonable for a pizza make from_scratch\n",
      "\n",
      "the pizza be delicious but surprisingly not fill\n",
      "\n"
     ]
    }
   ],
   "source": [
    "for trigram_sentence in it.islice(trigram_sentences, 230, 240):\n",
    "    print u' '.join(trigram_sentence)\n",
    "    print u''"
   ]
  },
  {
   "cell_type": "code",
   "execution_count": 30,
   "metadata": {
    "collapsed": false
   },
   "outputs": [],
   "source": [
    "trigram_reviews_filepath = os.path.join(result_directory,'trigram_transformed_reviews_all.txt')"
   ]
  },
  {
   "cell_type": "code",
   "execution_count": 22,
   "metadata": {
    "collapsed": true
   },
   "outputs": [],
   "source": [
    "with codecs.open(trigram_reviews_filepath, 'w', encoding='utf_8') as f:\n",
    "\n",
    "    for parsed_review in nlp.pipe(line_review(review_txt_filepath),\n",
    "                                  batch_size=10000, n_threads=4):\n",
    "\n",
    "        # lemmatize the text, removing punctuation and whitespace\n",
    "        unigram_review = [token.lemma_ for token in parsed_review\n",
    "                          if not punct_space(token)]\n",
    "\n",
    "        # apply the first-order and second-order phrase models\n",
    "        bigram_review = bigram_model[unigram_review]\n",
    "        trigram_review = trigram_model[bigram_review]\n",
    "\n",
    "        # remove any remaining stopwords\n",
    "        trigram_review = [term for term in trigram_review\n",
    "                          if term not in spacy.en.STOPWORDS]\n",
    "\n",
    "        # write the transformed review as a line in the new file\n",
    "        trigram_review = u' '.join(trigram_review)\n",
    "        f.write(trigram_review + '\\n')"
   ]
  },
  {
   "cell_type": "code",
   "execution_count": 23,
   "metadata": {
    "collapsed": false
   },
   "outputs": [
    {
     "name": "stdout",
     "output_type": "stream",
     "text": [
      "Original:\n",
      "\n",
      "The Free Speech Movement Cafe has Mario Savio's immortal words etched in metal that you can read while waiting in line:  \"To me, freedom of speech is something that represents the very dignity of what a human being is. ... It is the thing that marks us as just below the angels.\"  That being said, FSM is the second-best cafe in Berkeley to engage in that practice known as \"eye-f*cking.\"  Any student who has ever sat in a cafe to study during midterms has done it.  You're sitting at a table, enjoying your hot grilled chicken panini and fresh green salad, allowing your Americano to cool, when you see an attractive person sitting across the way from you.  S/he is typing away at a laptop, but every so often--so you think--s/he looks up and gazes intently into your eyes.  Maybe s/he is looking THROUGH you to the grayscale images of the Free Speech Movement behind you; maybe the person is simply seeking the camaraderie of another weary, exam-riddled soul.  But you know better.  S/he wants you.  You then allow yourself for the next twenty minutes to highlight the same tired line of Samuel Huntington while eye-f*cking that person.  I've heard this practice referred to in a number of different ways.  For instance, for those inclined towards religion there is \"eye-hand-holding\" (which sounds gross, actually).  For those pursuing MRS degrees there is \"eye-marrying.\"  I prefer the anonymity and ever-so-titillating term mentioned in the paragraph above.  This all being said, FSM is a great place to study and hang out.  It's right in the middle of campus, so it's convenient for mid-day snacks or meetings.  It tends to get very crowded and very hot.  Expect to share your table, unless you do what I sometimes did: turn your table so that it is lengthwise against you.  Then spread out pens, books, and notepads over the entire expanse.  This will give you a little bit of privacy!  And the sandwiches, entrees, and soups are delicious and reasonably priced.  Just be sure not to make a habit of it, as $7 or $8 for a sandwich and coffee every day tends to add up quickly!\n",
      "\n",
      "----\n",
      "\n",
      "Transformed:\n",
      "\n",
      "free_speech_movement_cafe mario savio 's immortal word etch metal read wait line freedom speech represent dignity human_being thing mark angel fsm second best cafe berkeley engage practice know eye f*ck student_who sit cafe study during_midterm you_'re sit table enjoy hot grilled_chicken panini fresh green_salad allow americano cool attractive person sit way s/he type away laptop think s/he look gaze intently eye maybe s/he look grayscale image free_speech_movement maybe person simply seek camaraderie weary exam riddled soul know better s/he want allow twenty_minute highlight tired line samuel huntington eye f*ck person hear practice refer number different way instance inclined religion eye hand hold sound gross actually pursue mrs degree eye marry prefer anonymity titillating term mention paragraph fsm great place study hang_out ' right middle campus ' convenient mid_day snack meeting tend crowded hot expect share table unless_you turn table lengthwise spread pen book notepad entire expanse little_bit privacy sandwich entree soup delicious reasonably_price sure habit $_7 $_8 sandwich coffee every_day tend add quickly\n",
      "\n"
     ]
    }
   ],
   "source": [
    "print u'Original:' + u'\\n'\n",
    "\n",
    "for review in it.islice(line_review(review_txt_filepath), 3645, 3646):\n",
    "    print review\n",
    "\n",
    "print u'----' + u'\\n'\n",
    "print u'Transformed:' + u'\\n'\n",
    "\n",
    "with codecs.open(trigram_reviews_filepath, encoding='utf_8') as f:\n",
    "    for review in it.islice(f, 3645, 3646):\n",
    "        print review"
   ]
  },
  {
   "cell_type": "code",
   "execution_count": 6,
   "metadata": {
    "collapsed": false
   },
   "outputs": [],
   "source": [
    "# uses bigram to create X\n",
    "X_list=pd.read_table(bigram_reviews_filepath, skip_blank_lines=False ,names=['text'])\n",
    "X=X_list.text"
   ]
  },
  {
   "cell_type": "code",
   "execution_count": 7,
   "metadata": {
    "collapsed": false
   },
   "outputs": [],
   "source": [
    "# assign ratings as y values\n",
    "y_list=pd.read_table(star_txt_filepath,names=['stars'])\n",
    "y=y_list.stars"
   ]
  },
  {
   "cell_type": "code",
   "execution_count": 21,
   "metadata": {
    "collapsed": false
   },
   "outputs": [
    {
     "name": "stdout",
     "output_type": "stream",
     "text": [
      "(17396,)\n",
      "(17396,)\n"
     ]
    }
   ],
   "source": [
    "print X.shape\n",
    "print y.shape"
   ]
  },
  {
   "cell_type": "code",
   "execution_count": 22,
   "metadata": {
    "collapsed": true
   },
   "outputs": [],
   "source": [
    "X_train, X_test, y_train, y_test = train_test_split(X, y, stratify=y, random_state=1)"
   ]
  },
  {
   "cell_type": "code",
   "execution_count": 11,
   "metadata": {
    "collapsed": false
   },
   "outputs": [],
   "source": [
    "vect = CountVectorizer()\n",
    "X_dtm = vect.fit_transform(X.values.astype('U'))\n",
    "# X_train_dtm = vect.fit_transform(X_train.values.astype('U'))\n",
    "# X_test_dtm = vect.transform(X_test.values.astype('U'))\n",
    "# X_test_dtm2 = vect.transform([\"ddgdhrrrgh00\"])"
   ]
  },
  {
   "cell_type": "code",
   "execution_count": 33,
   "metadata": {
    "collapsed": false
   },
   "outputs": [
    {
     "name": "stdout",
     "output_type": "stream",
     "text": [
      "[ 0.67672414  0.63534483  0.65948276  0.68123024  0.63215416]\n",
      "Accuracy: 0.66 (+/- 0.04)\n",
      "f1: 0.66 (+/- 0.04)\n"
     ]
    }
   ],
   "source": [
    "# cross_val to get accuracy and f1-score for naive-bayse\n",
    "from sklearn.cross_validation import cross_val_score\n",
    "nb = MultinomialNB()\n",
    "scores = cross_val_score(nb,X_dtm, y, cv=5)\n",
    "print scores                                              \n",
    "print(\"Accuracy: %0.2f (+/- %0.2f)\" % (scores.mean(), scores.std() * 2))\n",
    "scores = cross_val_score(nb,X_dtm, y, cv=5, scoring='f1_micro')\n",
    "print(\"f1: %0.2f (+/- %0.2f)\" % (scores.mean(), scores.std() * 2))"
   ]
  },
  {
   "cell_type": "code",
   "execution_count": 19,
   "metadata": {
    "collapsed": false
   },
   "outputs": [
    {
     "name": "stdout",
     "output_type": "stream",
     "text": [
      "[ 0.69770115  0.67385057  0.68706897  0.68784133  0.67213115]\n",
      "Accuracy: 0.68 (+/- 0.02)\n",
      "f1: 0.68 (+/- 0.02)\n"
     ]
    }
   ],
   "source": [
    "# cross_val to get accuracy and f1-score for svm\n",
    "from sklearn import svm\n",
    "svc=svm.SVC(kernel='linear',C= 0.01, class_weight= None)\n",
    "scores = cross_val_score(svc,X_dtm, y, cv=5)\n",
    "print scores                                              \n",
    "print(\"Accuracy: %0.2f (+/- %0.2f)\" % (scores.mean(), scores.std() * 2))\n",
    "scores = cross_val_score(svc,X_dtm, y, cv=5, scoring='f1_micro')\n",
    "print(\"f1: %0.2f (+/- %0.2f)\" % (scores.mean(), scores.std() * 2))"
   ]
  },
  {
   "cell_type": "code",
   "execution_count": 17,
   "metadata": {
    "collapsed": false
   },
   "outputs": [
    {
     "name": "stdout",
     "output_type": "stream",
     "text": [
      "[ 0.67873563  0.66350575  0.66752874  0.65938488  0.65976416]\n",
      "Accuracy: 0.67 (+/- 0.01)\n",
      "f1: 0.66 (+/- 0.02)\n"
     ]
    }
   ],
   "source": [
    "# cross_val to get accuracy and f1-score for random-forest\n",
    "from sklearn.cross_validation import cross_val_score\n",
    "rf=RandomForestClassifier(min_samples_split=2, n_estimators=50, bootstrap=False, criterion='entropy', max_depth=None)\n",
    "scores = cross_val_score(rf,X_dtm, y, cv=5)\n",
    "print scores                                              \n",
    "print(\"Accuracy: %0.2f (+/- %0.2f)\" % (scores.mean(), scores.std() * 2))\n",
    "scores = cross_val_score(rf,X_dtm, y, cv=5, scoring='f1_micro')\n",
    "print(\"f1: %0.2f (+/- %0.2f)\" % (scores.mean(), scores.std() * 2))"
   ]
  },
  {
   "cell_type": "code",
   "execution_count": 21,
   "metadata": {
    "collapsed": false
   },
   "outputs": [
    {
     "name": "stdout",
     "output_type": "stream",
     "text": [
      "[ 0.6637931   0.61350575  0.56522989  0.67346939  0.53551913]\n",
      "Accuracy: 0.61 (+/- 0.11)\n",
      "f1: 0.61 (+/- 0.11)\n"
     ]
    }
   ],
   "source": [
    "# cross_val to get accuracy and f1-score for naive-bayse adaboost\n",
    "nb = MultinomialNB()\n",
    "from sklearn.ensemble import AdaBoostClassifier\n",
    "ab = AdaBoostClassifier(nb)\n",
    "scores = cross_val_score(ab,X_dtm, y, cv=5)\n",
    "print scores                                              \n",
    "print(\"Accuracy: %0.2f (+/- %0.2f)\" % (scores.mean(), scores.std() * 2))\n",
    "scores = cross_val_score(ab,X_dtm, y, cv=5, scoring='f1_micro')\n",
    "print(\"f1: %0.2f (+/- %0.2f)\" % (scores.mean(), scores.std() * 2))"
   ]
  },
  {
   "cell_type": "code",
   "execution_count": 22,
   "metadata": {
    "collapsed": true
   },
   "outputs": [],
   "source": [
    "vect = TfidfVectorizer()\n",
    "X_dtm = vect.fit_transform(X.values.astype('U'))"
   ]
  },
  {
   "cell_type": "code",
   "execution_count": 23,
   "metadata": {
    "collapsed": false
   },
   "outputs": [
    {
     "name": "stdout",
     "output_type": "stream",
     "text": [
      "[ 0.59798851  0.59798851  0.59798851  0.59787295  0.59821685]\n",
      "Accuracy: 0.60 (+/- 0.00)\n",
      "f1: 0.60 (+/- 0.00)\n"
     ]
    }
   ],
   "source": [
    "# cross_val to get accuracy and f1-score for naive-bayse adaboost, but this time use ft-idf vectorizer instead\n",
    "nb = MultinomialNB()\n",
    "from sklearn.ensemble import AdaBoostClassifier\n",
    "ab = AdaBoostClassifier(nb)\n",
    "scores = cross_val_score(ab,X_dtm, y, cv=5)\n",
    "print scores                                              \n",
    "print(\"Accuracy: %0.2f (+/- %0.2f)\" % (scores.mean(), scores.std() * 2))\n",
    "scores = cross_val_score(ab,X_dtm, y, cv=5, scoring='f1_micro')\n",
    "print(\"f1: %0.2f (+/- %0.2f)\" % (scores.mean(), scores.std() * 2))"
   ]
  },
  {
   "cell_type": "code",
   "execution_count": 24,
   "metadata": {
    "collapsed": false
   },
   "outputs": [
    {
     "name": "stdout",
     "output_type": "stream",
     "text": [
      "[ 0.6         0.60114943  0.60086207  0.59959759  0.60023008]\n",
      "Accuracy: 0.60 (+/- 0.00)\n",
      "f1: 0.60 (+/- 0.00)\n"
     ]
    }
   ],
   "source": [
    "nb = MultinomialNB()\n",
    "scores = cross_val_score(nb,X_dtm, y, cv=5)\n",
    "print scores                                              \n",
    "print(\"Accuracy: %0.2f (+/- %0.2f)\" % (scores.mean(), scores.std() * 2))\n",
    "scores = cross_val_score(nb,X_dtm, y, cv=5, scoring='f1_micro')\n",
    "print(\"f1: %0.2f (+/- %0.2f)\" % (scores.mean(), scores.std() * 2))"
   ]
  },
  {
   "cell_type": "code",
   "execution_count": 37,
   "metadata": {
    "collapsed": false
   },
   "outputs": [
    {
     "name": "stdout",
     "output_type": "stream",
     "text": [
      "             precision    recall  f1-score   support\n",
      "\n",
      "          1       0.68      0.50      0.58       751\n",
      "          2       0.45      0.38      0.41       997\n",
      "          3       0.76      0.87      0.81      2601\n",
      "\n",
      "avg / total       0.68      0.69      0.68      4349\n",
      "\n",
      "[[ 374  194  183]\n",
      " [ 103  380  514]\n",
      " [  69  276 2256]]\n"
     ]
    }
   ],
   "source": [
    "print metrics.classification_report(y_test, y_pred_nb)\n",
    "print metrics.confusion_matrix(y_test, y_pred_nb)"
   ]
  },
  {
   "cell_type": "code",
   "execution_count": 110,
   "metadata": {
    "collapsed": false
   },
   "outputs": [
    {
     "data": {
      "text/plain": [
       "3    0.598011\n",
       "2    0.229306\n",
       "1    0.172683\n",
       "Name: stars, dtype: float64"
      ]
     },
     "execution_count": 110,
     "metadata": {},
     "output_type": "execute_result"
    }
   ],
   "source": [
    "y.value_counts()/len(y)"
   ]
  },
  {
   "cell_type": "code",
   "execution_count": 111,
   "metadata": {
    "collapsed": false
   },
   "outputs": [
    {
     "name": "stdout",
     "output_type": "stream",
     "text": [
      "0.646125546103\n"
     ]
    }
   ],
   "source": [
    "rf=RandomForestClassifier()\n",
    "rf.fit(X_train_dtm, y_train)\n",
    "y_pred_rf = rf.predict(X_test_dtm)\n",
    "\n",
    "print metrics.accuracy_score(y_test, y_pred_rf)"
   ]
  },
  {
   "cell_type": "code",
   "execution_count": 112,
   "metadata": {
    "collapsed": false
   },
   "outputs": [
    {
     "name": "stdout",
     "output_type": "stream",
     "text": [
      "0.598068521499\n"
     ]
    }
   ],
   "source": [
    "from sklearn import svm\n",
    "svc=svm.SVC()\n",
    "svc.fit(X_train_dtm, y_train)\n",
    "y_pred_svm = svc.predict(X_test_dtm)\n",
    "\n",
    "print metrics.accuracy_score(y_test, y_pred_svm)"
   ]
  },
  {
   "cell_type": "code",
   "execution_count": 35,
   "metadata": {
    "collapsed": false
   },
   "outputs": [
    {
     "name": "stdout",
     "output_type": "stream",
     "text": [
      "{'alpha': 1, 'fit_prior': True}\n"
     ]
    }
   ],
   "source": [
    "from sklearn.grid_search import GridSearchCV\n",
    "param_grid = {'alpha': [0,.5,1],\n",
    "              'fit_prior': [True,False]}\n",
    "nb_rf = GridSearchCV(estimator=nb, param_grid=param_grid, cv=5)\n",
    "nb_rf.fit(X_train_dtm, y_train)\n",
    "nb_rf.best_params_\n",
    "print nb_rf.best_params_"
   ]
  },
  {
   "cell_type": "code",
   "execution_count": 113,
   "metadata": {
    "collapsed": false
   },
   "outputs": [
    {
     "name": "stdout",
     "output_type": "stream",
     "text": [
      "0.692113129455\n"
     ]
    }
   ],
   "source": [
    "nb = MultinomialNB()\n",
    "nb.fit(X_train_dtm, y_train)\n",
    "y_pred_nb = nb.predict(X_test_dtm)\n",
    "\n",
    "print metrics.accuracy_score(y_test, y_pred_nb)"
   ]
  },
  {
   "cell_type": "code",
   "execution_count": 37,
   "metadata": {
    "collapsed": false
   },
   "outputs": [
    {
     "name": "stdout",
     "output_type": "stream",
     "text": [
      "{'min_samples_split': 2, 'n_estimators': 100, 'bootstrap': False, 'criterion': 'gini', 'max_depth': None}\n"
     ]
    }
   ],
   "source": [
    "param_grid = {'n_estimators': [10, 50, 100],\n",
    "              'max_depth': [3, 5, 10, None],\n",
    "              'min_samples_split': [2, 5],\n",
    "              'criterion': ['gini', 'entropy'],\n",
    "              'bootstrap': [True, False]}\n",
    "gs_rf = GridSearchCV(estimator=rf, param_grid=param_grid, cv=5)\n",
    "gs_rf.fit(X_train_dtm, y_train)\n",
    "gs_rf.best_params_\n",
    "print gs_rf.best_params_"
   ]
  },
  {
   "cell_type": "code",
   "execution_count": 114,
   "metadata": {
    "collapsed": false
   },
   "outputs": [
    {
     "name": "stdout",
     "output_type": "stream",
     "text": [
      "0.673258220281\n"
     ]
    }
   ],
   "source": [
    "rf=RandomForestClassifier(min_samples_split=2, n_estimators=50, bootstrap=False, criterion='entropy', max_depth=None)\n",
    "rf.fit(X_train_dtm, y_train)\n",
    "y_pred_class = rf.predict(X_test_dtm)\n",
    "\n",
    "print metrics.accuracy_score(y_test, y_pred_class)"
   ]
  },
  {
   "cell_type": "code",
   "execution_count": 39,
   "metadata": {
    "collapsed": false
   },
   "outputs": [
    {
     "name": "stdout",
     "output_type": "stream",
     "text": [
      "{'C': 0.1, 'class_weight': None}\n"
     ]
    }
   ],
   "source": [
    "param_grid = {'C': [0.01, 0.1, 1, 10],\n",
    "              'class_weight': [None,'balanced']}\n",
    "gs_svc = GridSearchCV(svm.SVC(kernel='linear'), param_grid)\n",
    "gs_svc.fit(X_train_dtm, y_train)\n",
    "gs_svc.best_params_\n",
    "print gs_svc.best_params_"
   ]
  },
  {
   "cell_type": "code",
   "execution_count": 40,
   "metadata": {
    "collapsed": false
   },
   "outputs": [
    {
     "name": "stdout",
     "output_type": "stream",
     "text": [
      "0.673258220281\n"
     ]
    }
   ],
   "source": [
    "svc=svm.SVC(kernel='linear',C= 0.01, class_weight= 'balanced')\n",
    "svc.fit(X_train_dtm, y_train)\n",
    "y_pred_class = svc.predict(X_test_dtm)\n",
    "\n",
    "print metrics.accuracy_score(y_test, y_pred_class)"
   ]
  },
  {
   "cell_type": "code",
   "execution_count": 127,
   "metadata": {
    "collapsed": false
   },
   "outputs": [
    {
     "name": "stdout",
     "output_type": "stream",
     "text": [
      "Bagging Score:\t0.658021376002\n"
     ]
    }
   ],
   "source": [
    "from sklearn.ensemble import BaggingClassifier\n",
    "from sklearn.cross_validation import cross_val_score\n",
    "\n",
    "bagging = BaggingClassifier(nb)\n",
    "# bagging.fit(X_train_dtm,y_train)\n",
    "# y_pred_bag = bagging.predict(X_test_dtm)\n",
    "# print metrics.accuracy_score(y_test, y_pred_bag)\n",
    "print \"Bagging Score:\\t\", cross_val_score(bagging, X_train_dtm,y, cv=5, n_jobs=-1).mean()"
   ]
  },
  {
   "cell_type": "code",
   "execution_count": 125,
   "metadata": {
    "collapsed": false
   },
   "outputs": [
    {
     "name": "stdout",
     "output_type": "stream",
     "text": [
      "0.610303449814\n"
     ]
    }
   ],
   "source": [
    "from sklearn.ensemble import AdaBoostClassifier\n",
    "ab = AdaBoostClassifier(nb)\n",
    "# ab.fit(X_train_dtm,y_train)\n",
    "# y_pred_fit = ab.predict(X_test_dtm)\n",
    "print cross_val_score(ab, X_train_dtm, y, cv=5, n_jobs=-1).mean()"
   ]
  },
  {
   "cell_type": "code",
   "execution_count": 117,
   "metadata": {
    "collapsed": false
   },
   "outputs": [
    {
     "name": "stdout",
     "output_type": "stream",
     "text": [
      "Bagging Score:\t0.691652547384\n"
     ]
    }
   ],
   "source": [
    "print \"Bagging Score:\\t\", cross_val_score(nb, X_train_dtm,y_train, cv=5, n_jobs=-1).mean()"
   ]
  },
  {
   "cell_type": "code",
   "execution_count": 121,
   "metadata": {
    "collapsed": false
   },
   "outputs": [],
   "source": [
    "X_list=pd.read_table(bigram_reviews_filepath, skip_blank_lines=False ,names=['text'])\n",
    "X=X_list.text"
   ]
  },
  {
   "cell_type": "code",
   "execution_count": 122,
   "metadata": {
    "collapsed": true
   },
   "outputs": [],
   "source": [
    "y_list=pd.read_table(star_txt_filepath,names=['stars'])\n",
    "y=y_list.stars"
   ]
  },
  {
   "cell_type": "code",
   "execution_count": 40,
   "metadata": {
    "collapsed": false
   },
   "outputs": [],
   "source": [
    "X_train, X_test, y_train, y_test = train_test_split(X, y, random_state=1)"
   ]
  },
  {
   "cell_type": "code",
   "execution_count": 123,
   "metadata": {
    "collapsed": true
   },
   "outputs": [],
   "source": [
    "# tf-idf\n",
    "vect = CountVectorizer()\n",
    "X_train_dtm = vect.fit_transform(X.values.astype('U'))\n",
    "X_test_dtm = vect.transform(X_test.values.astype('U'))\n",
    "# X_test_dtm2 = vect.transform([\"ddgdhrrrgh00\"])"
   ]
  },
  {
   "cell_type": "code",
   "execution_count": 42,
   "metadata": {
    "collapsed": false
   },
   "outputs": [
    {
     "name": "stdout",
     "output_type": "stream",
     "text": [
      "0.707059094045\n"
     ]
    }
   ],
   "source": [
    "nb = MultinomialNB()\n",
    "nb.fit(X_train_dtm, y_train)\n",
    "y_pred_nb = nb.predict(X_test_dtm)\n",
    "\n",
    "print metrics.accuracy_score(y_test, y_pred_nb)\n",
    "#print y_pred_class"
   ]
  },
  {
   "cell_type": "code",
   "execution_count": 43,
   "metadata": {
    "collapsed": false
   },
   "outputs": [
    {
     "name": "stdout",
     "output_type": "stream",
     "text": [
      "(13047, 23785)\n",
      "(17396,)\n"
     ]
    }
   ],
   "source": [
    "print X_train_dtm.shape\n",
    "print y.shape"
   ]
  },
  {
   "cell_type": "code",
   "execution_count": 44,
   "metadata": {
    "collapsed": false
   },
   "outputs": [
    {
     "name": "stdout",
     "output_type": "stream",
     "text": [
      "             precision    recall  f1-score   support\n",
      "\n",
      "          1       0.70      0.55      0.61       735\n",
      "          2       0.48      0.36      0.41      1031\n",
      "          3       0.77      0.89      0.82      2583\n",
      "\n",
      "avg / total       0.69      0.71      0.69      4349\n",
      "\n",
      "[[ 402  175  158]\n",
      " [ 112  374  545]\n",
      " [  60  224 2299]]\n"
     ]
    }
   ],
   "source": [
    "print metrics.classification_report(y_test, y_pred_nb)\n",
    "print metrics.confusion_matrix(y_test, y_pred_nb)"
   ]
  },
  {
   "cell_type": "code",
   "execution_count": 24,
   "metadata": {
    "collapsed": false
   },
   "outputs": [],
   "source": [
    "# change parameters\n",
    "vect = CountVectorizer(min_df=0.01)\n",
    "X_dtm = vect.fit_transform(X.values.astype('U'))"
   ]
  },
  {
   "cell_type": "code",
   "execution_count": 25,
   "metadata": {
    "collapsed": false
   },
   "outputs": [
    {
     "name": "stdout",
     "output_type": "stream",
     "text": [
      "[ 0.66724138  0.6         0.65143678  0.68554182  0.60339373]\n",
      "Accuracy: 0.64 (+/- 0.07)\n",
      "f1: 0.64 (+/- 0.07)\n"
     ]
    }
   ],
   "source": [
    "from sklearn.cross_validation import cross_val_score\n",
    "nb = MultinomialNB()\n",
    "scores = cross_val_score(nb,X_dtm, y, cv=5)\n",
    "print scores                                              \n",
    "print(\"Accuracy: %0.2f (+/- %0.2f)\" % (scores.mean(), scores.std() * 2))\n",
    "scores = cross_val_score(nb,X_dtm, y, cv=5, scoring='f1_micro')\n",
    "print(\"f1: %0.2f (+/- %0.2f)\" % (scores.mean(), scores.std() * 2))"
   ]
  },
  {
   "cell_type": "code",
   "execution_count": 70,
   "metadata": {
    "collapsed": false
   },
   "outputs": [
    {
     "data": {
      "text/plain": [
       "'result-3categories-minidata-v2'"
      ]
     },
     "execution_count": 70,
     "metadata": {},
     "output_type": "execute_result"
    }
   ],
   "source": [
    "result_directory"
   ]
  },
  {
   "cell_type": "code",
   "execution_count": 73,
   "metadata": {
    "collapsed": false
   },
   "outputs": [],
   "source": [
    "sentiment=[]\n",
    "review_filepath = os.path.join(result_directory,'review_text.txt')\n",
    "with codecs.open(review_filepath, 'r', encoding='utf_8') as review_file:\n",
    "    for sentence in review_file:\n",
    "        blob=TextBlob(sentence)\n",
    "        sentiment.append(blob.sentiment.polarity)"
   ]
  },
  {
   "cell_type": "code",
   "execution_count": 75,
   "metadata": {
    "collapsed": false
   },
   "outputs": [
    {
     "data": {
      "text/plain": [
       "17396"
      ]
     },
     "execution_count": 75,
     "metadata": {},
     "output_type": "execute_result"
    }
   ],
   "source": [
    "len(sentiment)"
   ]
  },
  {
   "cell_type": "code",
   "execution_count": 76,
   "metadata": {
    "collapsed": false
   },
   "outputs": [
    {
     "data": {
      "text/plain": [
       "(17396,)"
      ]
     },
     "execution_count": 76,
     "metadata": {},
     "output_type": "execute_result"
    }
   ],
   "source": [
    "X.shape"
   ]
  },
  {
   "cell_type": "code",
   "execution_count": 89,
   "metadata": {
    "collapsed": false
   },
   "outputs": [
    {
     "data": {
      "text/plain": [
       "array([[ 1.       ,  0.4116895],\n",
       "       [ 0.4116895,  1.       ]])"
      ]
     },
     "execution_count": 89,
     "metadata": {},
     "output_type": "execute_result"
    }
   ],
   "source": [
    "# yelp sentiment detector vs textblob sentiment detector\n",
    "np.corrcoef(sentiment,y)"
   ]
  },
  {
   "cell_type": "code",
   "execution_count": 135,
   "metadata": {
    "collapsed": false
   },
   "outputs": [
    {
     "name": "stdout",
     "output_type": "stream",
     "text": [
      "Confusion matrix, without normalization\n",
      "[[ 374  194  183]\n",
      " [ 103  380  514]\n",
      " [  69  276 2256]]\n"
     ]
    },
    {
     "data": {
      "image/png": "[encoded data removed]",
      "text/plain": [
       "<matplotlib.figure.Figure at 0x7f148aa1f750>"
      ]
     },
     "metadata": {},
     "output_type": "display_data"
    }
   ],
   "source": [
    "# better visualizaion for confusion matrix\n",
    "import matplotlib.pyplot as plt\n",
    "import itertools\n",
    "%matplotlib inline\n",
    "\n",
    "def plot_confusion_matrix(cm, classes,\n",
    "                          normalize=False,\n",
    "                          title='Confusion matrix',\n",
    "                          cmap=plt.cm.Blues):\n",
    "    \"\"\"\n",
    "    This function prints and plots the confusion matrix.\n",
    "    Normalization can be applied by setting `normalize=True`.\n",
    "    \"\"\"\n",
    "    plt.imshow(cm, interpolation='nearest', cmap=cmap)\n",
    "    plt.title(title)\n",
    "    plt.colorbar()\n",
    "    tick_marks = np.arange(len(classes))\n",
    "    plt.xticks(tick_marks, classes, rotation=45)\n",
    "    plt.yticks(tick_marks, classes)\n",
    "\n",
    "    if normalize:\n",
    "        cm = cm.astype('float') / cm.sum(axis=1)[:, np.newaxis]\n",
    "        print(\"Normalized confusion matrix\")\n",
    "    else:\n",
    "        print('Confusion matrix, without normalization')\n",
    "\n",
    "    print(cm)\n",
    "\n",
    "    thresh = cm.max() / 2.\n",
    "    for i, j in itertools.product(range(cm.shape[0]), range(cm.shape[1])):\n",
    "        plt.text(j, i, cm[i, j],\n",
    "                 horizontalalignment=\"center\",\n",
    "                 color=\"white\" if cm[i, j] > thresh else \"black\")\n",
    "\n",
    "    plt.tight_layout()\n",
    "    plt.ylabel('True label')\n",
    "    plt.xlabel('Predicted label')\n",
    "\n",
    "# Compute confusion matrix\n",
    "cnf_matrix = metrics.confusion_matrix(y_test, y_pred_nb)\n",
    "np.set_printoptions(precision=2)\n",
    "\n",
    "# Plot non-normalized confusion matrix\n",
    "plt.figure()\n",
    "plot_confusion_matrix(cnf_matrix, classes=[1,2,3],\n",
    "                      title='Confusion matrix')"
   ]
  },
  {
   "cell_type": "code",
   "execution_count": null,
   "metadata": {
    "collapsed": true
   },
   "outputs": [],
   "source": []
  }
 ],
 "metadata": {
  "anaconda-cloud": {},
  "kernelspec": {
   "display_name": "Python [default]",
   "language": "python",
   "name": "python2"
  },
  "language_info": {
   "codemirror_mode": {
    "name": "ipython",
    "version": 2
   },
   "file_extension": ".py",
   "mimetype": "text/x-python",
   "name": "python",
   "nbconvert_exporter": "python",
   "pygments_lexer": "ipython2",
   "version": "2.7.12"
  }
 },
 "nbformat": 4,
 "nbformat_minor": 0
}
